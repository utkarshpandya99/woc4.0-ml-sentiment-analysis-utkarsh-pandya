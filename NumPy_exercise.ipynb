{
  "nbformat": 4,
  "nbformat_minor": 0,
  "metadata": {
    "colab": {
      "name": "NumPy_exercise.ipynb",
      "provenance": [],
      "collapsed_sections": []
    },
    "kernelspec": {
      "display_name": "Python 3",
      "name": "python3"
    }
  },
  "cells": [
    {
      "cell_type": "code",
      "metadata": {
        "id": "EnhORJMC5NHc"
      },
      "source": [
        "import numpy as np"
      ],
      "execution_count": 39,
      "outputs": []
    },
    {
      "cell_type": "markdown",
      "metadata": {
        "id": "dp92tsiV49wM"
      },
      "source": [
        "# Part 1: Creating ndarrays"
      ]
    },
    {
      "cell_type": "markdown",
      "metadata": {
        "id": "kI-sYE8f5L4P"
      },
      "source": [
        "1. Convert the below given list of strings to an int32 NumPy array"
      ]
    },
    {
      "cell_type": "code",
      "metadata": {
        "id": "E_nNMLpu5PE2"
      },
      "source": [
        "slist = ['2.5', '1.25', '0.024','2.999','1024.5']"
      ],
      "execution_count": 40,
      "outputs": []
    },
    {
      "cell_type": "code",
      "metadata": {
        "id": "guqHmLhqWxzJ",
        "colab": {
          "base_uri": "https://localhost:8080/"
        },
        "outputId": "b972b3c1-ab5c-468b-de70-3debf5f3d62e"
      },
      "source": [
        "# Write your code here\n",
        "\n",
        "a = np.array(slist)\n",
        "b = a.astype(np.float)\n",
        "c= b.astype(np.int32)\n",
        "print(c)"
      ],
      "execution_count": 41,
      "outputs": [
        {
          "output_type": "stream",
          "name": "stdout",
          "text": [
            "[   2    1    0    2 1024]\n"
          ]
        }
      ]
    },
    {
      "cell_type": "markdown",
      "metadata": {
        "id": "6uPLqLMu5Wo0"
      },
      "source": [
        "2. Create an empty 5x5 NumPy matrix"
      ]
    },
    {
      "cell_type": "code",
      "metadata": {
        "id": "cxRRTaVWWvqn"
      },
      "source": [
        "# Write your code here\n",
        "e= np.empty((5,5))"
      ],
      "execution_count": 42,
      "outputs": []
    },
    {
      "cell_type": "markdown",
      "metadata": {
        "id": "AOdcEdnA5f3B"
      },
      "source": [
        "# Part 2: Operations between Arrays and Scalars"
      ]
    },
    {
      "cell_type": "markdown",
      "metadata": {
        "id": "tKvPKAct5lT_"
      },
      "source": [
        "3. Create a 1x7 Numpy array whose elements consist of a geometric progression with a = 1 & r = 3, terms are arranged indexwise, for ex"
      ]
    },
    {
      "cell_type": "code",
      "metadata": {
        "id": "m8hVg-mV5mAn"
      },
      "source": [
        "sample_output = [1,3,9,27,81]"
      ],
      "execution_count": 43,
      "outputs": []
    },
    {
      "cell_type": "code",
      "metadata": {
        "id": "yRh4_XudW7YR",
        "colab": {
          "base_uri": "https://localhost:8080/"
        },
        "outputId": "49263e13-5813-45e6-eb02-937665d10b25"
      },
      "source": [
        "# Write your code here\n",
        "np.geomspace(1, 729, num=7, dtype=int)"
      ],
      "execution_count": 44,
      "outputs": [
        {
          "output_type": "execute_result",
          "data": {
            "text/plain": [
              "array([  1,   3,   9,  27,  81, 242, 729])"
            ]
          },
          "metadata": {},
          "execution_count": 44
        }
      ]
    },
    {
      "cell_type": "markdown",
      "metadata": {
        "id": "olRCl-v8_JR9"
      },
      "source": [
        "4. Transform each of the element of the below matrix according to the below equation\n",
        "\n",
        "    if x is an elements in input matrix, output matrix should have \n",
        "$1/(x^2 + 1)$ in its place\n",
        "\n"
      ]
    },
    {
      "cell_type": "code",
      "metadata": {
        "id": "7ZZoyVXZAq9G"
      },
      "source": [
        "mat = [[1,2,3],[4,5,6]]"
      ],
      "execution_count": 45,
      "outputs": []
    },
    {
      "cell_type": "code",
      "metadata": {
        "id": "qc_muADhXCFh",
        "colab": {
          "base_uri": "https://localhost:8080/"
        },
        "outputId": "0db3b843-4182-4655-9b9c-87160ca950e4"
      },
      "source": [
        "# Write your code here\n",
        "def func(x):\n",
        "    return 1/(1+(x*x))\n",
        "m=np.array(mat)\n",
        "func(m)"
      ],
      "execution_count": 46,
      "outputs": [
        {
          "output_type": "execute_result",
          "data": {
            "text/plain": [
              "array([[0.5       , 0.2       , 0.1       ],\n",
              "       [0.05882353, 0.03846154, 0.02702703]])"
            ]
          },
          "metadata": {},
          "execution_count": 46
        }
      ]
    },
    {
      "cell_type": "markdown",
      "metadata": {
        "id": "SMuOfjq7DCkH"
      },
      "source": [
        "# Part 3: Basic Indexing and Slicing"
      ]
    },
    {
      "cell_type": "markdown",
      "metadata": {
        "id": "dxqj_uPbEOik"
      },
      "source": [
        "5. Make a 5x5 NumPy array of all zeros and use indexing and broadcasting to modify it such that all the elements not on the border are 1, for example"
      ]
    },
    {
      "cell_type": "code",
      "metadata": {
        "colab": {
          "base_uri": "https://localhost:8080/"
        },
        "id": "5Le5dW3IEh6_",
        "outputId": "994bfa55-2a46-4395-aa6a-40346e1106c5"
      },
      "source": [
        "output_sample = np.array([[0,0,0,0,0],[0,1,1,1,0],[0,1,1,1,0],[0,1,1,1,0],[0,0,0,0,0]])\n",
        "output_sample"
      ],
      "execution_count": 47,
      "outputs": [
        {
          "output_type": "execute_result",
          "data": {
            "text/plain": [
              "array([[0, 0, 0, 0, 0],\n",
              "       [0, 1, 1, 1, 0],\n",
              "       [0, 1, 1, 1, 0],\n",
              "       [0, 1, 1, 1, 0],\n",
              "       [0, 0, 0, 0, 0]])"
            ]
          },
          "metadata": {},
          "execution_count": 47
        }
      ]
    },
    {
      "cell_type": "code",
      "metadata": {
        "id": "A7jJSywYXIvr",
        "colab": {
          "base_uri": "https://localhost:8080/"
        },
        "outputId": "14e0109d-d02d-4e9e-a868-55c53bb639bb"
      },
      "source": [
        "#write your code here\n",
        "x = np.zeros((5,5),dtype=int)\n",
        "x[1:-1,1:-1] = 1\n",
        "print(x)"
      ],
      "execution_count": 48,
      "outputs": [
        {
          "output_type": "stream",
          "name": "stdout",
          "text": [
            "[[0 0 0 0 0]\n",
            " [0 1 1 1 0]\n",
            " [0 1 1 1 0]\n",
            " [0 1 1 1 0]\n",
            " [0 0 0 0 0]]\n"
          ]
        }
      ]
    },
    {
      "cell_type": "markdown",
      "metadata": {
        "id": "K0hJTUXkFdfA"
      },
      "source": [
        "6. Given the 3x3x3, 3-dimensional NumPy array"
      ]
    },
    {
      "cell_type": "code",
      "metadata": {
        "colab": {
          "base_uri": "https://localhost:8080/"
        },
        "id": "POO1yEFNGQnT",
        "outputId": "6f5f0474-1cd2-44f4-d620-b706ccb79ea5"
      },
      "source": [
        "arr = np.arange(27).reshape((3,3,3))\n",
        "arr"
      ],
      "execution_count": 49,
      "outputs": [
        {
          "output_type": "execute_result",
          "data": {
            "text/plain": [
              "array([[[ 0,  1,  2],\n",
              "        [ 3,  4,  5],\n",
              "        [ 6,  7,  8]],\n",
              "\n",
              "       [[ 9, 10, 11],\n",
              "        [12, 13, 14],\n",
              "        [15, 16, 17]],\n",
              "\n",
              "       [[18, 19, 20],\n",
              "        [21, 22, 23],\n",
              "        [24, 25, 26]]])"
            ]
          },
          "metadata": {},
          "execution_count": 49
        }
      ]
    },
    {
      "cell_type": "markdown",
      "metadata": {
        "id": "J0VtaaOtG2dH"
      },
      "source": [
        "i. Slice this matrix to contain only second and third rows, first and second columns of the given matrix."
      ]
    },
    {
      "cell_type": "code",
      "source": [
        "sample_output = np.array([[[3,4],[6,7]],[[12,13],[15,16]],[[21,22],[24,25]]])\n",
        "sample_output"
      ],
      "metadata": {
        "colab": {
          "base_uri": "https://localhost:8080/"
        },
        "id": "0NnEUUN-gOB5",
        "outputId": "990c9982-a1b2-4b29-b7c3-870a64b3e29c"
      },
      "execution_count": 50,
      "outputs": [
        {
          "output_type": "execute_result",
          "data": {
            "text/plain": [
              "array([[[ 3,  4],\n",
              "        [ 6,  7]],\n",
              "\n",
              "       [[12, 13],\n",
              "        [15, 16]],\n",
              "\n",
              "       [[21, 22],\n",
              "        [24, 25]]])"
            ]
          },
          "metadata": {},
          "execution_count": 50
        }
      ]
    },
    {
      "cell_type": "code",
      "metadata": {
        "id": "TvzAXsUDXNA7",
        "colab": {
          "base_uri": "https://localhost:8080/"
        },
        "outputId": "7e9682fc-8537-499e-d666-86e0c04d06b5"
      },
      "source": [
        "#write your code here\n",
        "ans=arr[0:3,1:3,0:2]\n",
        "ans"
      ],
      "execution_count": 51,
      "outputs": [
        {
          "output_type": "execute_result",
          "data": {
            "text/plain": [
              "array([[[ 3,  4],\n",
              "        [ 6,  7]],\n",
              "\n",
              "       [[12, 13],\n",
              "        [15, 16]],\n",
              "\n",
              "       [[21, 22],\n",
              "        [24, 25]]])"
            ]
          },
          "metadata": {},
          "execution_count": 51
        }
      ]
    },
    {
      "cell_type": "markdown",
      "metadata": {
        "id": "NBGc_zTdHxWD"
      },
      "source": [
        "ii. Output a two dimensional matrix as shown below"
      ]
    },
    {
      "cell_type": "code",
      "metadata": {
        "colab": {
          "base_uri": "https://localhost:8080/"
        },
        "id": "Y2WOfAhGH-O7",
        "outputId": "e62b22b4-45e3-450f-8e9d-5815cb4f6a01"
      },
      "source": [
        "sample_output = np.array([[0,3,6],[9,12,15],[18,21,14]])\n",
        "sample_output"
      ],
      "execution_count": 52,
      "outputs": [
        {
          "output_type": "execute_result",
          "data": {
            "text/plain": [
              "array([[ 0,  3,  6],\n",
              "       [ 9, 12, 15],\n",
              "       [18, 21, 14]])"
            ]
          },
          "metadata": {},
          "execution_count": 52
        }
      ]
    },
    {
      "cell_type": "code",
      "metadata": {
        "id": "4PmA4j3cXVfe",
        "colab": {
          "base_uri": "https://localhost:8080/"
        },
        "outputId": "aba99a69-0e87-4c61-b498-422bccb15161"
      },
      "source": [
        "#write your code here\n",
        "ans=arr[0:1,0:3,0:1]\n",
        "final=np.empty((3,3),dtype=int)\n",
        "final[0]=np.transpose(ans[0])\n",
        "ans=arr[1:2,0:3,0:1]\n",
        "final[1]=np.transpose(ans[0])\n",
        "ans=arr[2:3,0:3,0:1]\n",
        "final[2]=np.transpose(ans[0])\n",
        "final"
      ],
      "execution_count": 53,
      "outputs": [
        {
          "output_type": "execute_result",
          "data": {
            "text/plain": [
              "array([[ 0,  3,  6],\n",
              "       [ 9, 12, 15],\n",
              "       [18, 21, 24]])"
            ]
          },
          "metadata": {},
          "execution_count": 53
        }
      ]
    },
    {
      "cell_type": "markdown",
      "metadata": {
        "id": "ARJHpbXiIe5p"
      },
      "source": [
        "# Part 4: Boolean Indexing"
      ]
    },
    {
      "cell_type": "markdown",
      "metadata": {
        "id": "evJTyDSOIpcT"
      },
      "source": [
        "7. Given the following array, modify it such that even values stay the same and output contains 0s instead of odd values"
      ]
    },
    {
      "cell_type": "code",
      "metadata": {
        "colab": {
          "base_uri": "https://localhost:8080/"
        },
        "id": "aCzMmII5I3OV",
        "outputId": "29213804-16f8-4693-f45e-7c76c80c0282"
      },
      "source": [
        "arr = np.arange(9).reshape((3,3))\n",
        "arr"
      ],
      "execution_count": 54,
      "outputs": [
        {
          "output_type": "execute_result",
          "data": {
            "text/plain": [
              "array([[0, 1, 2],\n",
              "       [3, 4, 5],\n",
              "       [6, 7, 8]])"
            ]
          },
          "metadata": {},
          "execution_count": 54
        }
      ]
    },
    {
      "cell_type": "code",
      "metadata": {
        "colab": {
          "base_uri": "https://localhost:8080/"
        },
        "id": "cUYDN-utI631",
        "outputId": "a2a88697-c4ed-48ba-ac96-53d21af211d6"
      },
      "source": [
        "sample_output = np.array([[0,0,2],[0,4,0],[6,0,8]])\n",
        "sample_output"
      ],
      "execution_count": 55,
      "outputs": [
        {
          "output_type": "execute_result",
          "data": {
            "text/plain": [
              "array([[0, 0, 2],\n",
              "       [0, 4, 0],\n",
              "       [6, 0, 8]])"
            ]
          },
          "metadata": {},
          "execution_count": 55
        }
      ]
    },
    {
      "cell_type": "code",
      "metadata": {
        "id": "h2Z4fsdMXanz",
        "colab": {
          "base_uri": "https://localhost:8080/"
        },
        "outputId": "56ca7f1c-a1d5-43db-bd67-f6792072d5aa"
      },
      "source": [
        "# Write your code here\n",
        "a=arr\n",
        "a[a%2==1] = 0  \n",
        "a"
      ],
      "execution_count": 56,
      "outputs": [
        {
          "output_type": "execute_result",
          "data": {
            "text/plain": [
              "array([[0, 0, 2],\n",
              "       [0, 4, 0],\n",
              "       [6, 0, 8]])"
            ]
          },
          "metadata": {},
          "execution_count": 56
        }
      ]
    },
    {
      "cell_type": "markdown",
      "metadata": {
        "id": "ldtjYhuINJTS"
      },
      "source": [
        "# Part 5: Fancy Indexing"
      ]
    },
    {
      "cell_type": "markdown",
      "metadata": {
        "id": "MuId5CADOEil"
      },
      "source": [
        "8. For the given matrix, use fancy indexing to output a 2d matrix consisting all the even elements of the given matrix"
      ]
    },
    {
      "cell_type": "code",
      "metadata": {
        "colab": {
          "base_uri": "https://localhost:8080/"
        },
        "id": "OTq0propOlxk",
        "outputId": "b4bdcb4f-4c0b-41f9-a01d-19b643327def"
      },
      "source": [
        "arr = np.arange(32).reshape((8, 4))\n",
        "arr"
      ],
      "execution_count": 57,
      "outputs": [
        {
          "output_type": "execute_result",
          "data": {
            "text/plain": [
              "array([[ 0,  1,  2,  3],\n",
              "       [ 4,  5,  6,  7],\n",
              "       [ 8,  9, 10, 11],\n",
              "       [12, 13, 14, 15],\n",
              "       [16, 17, 18, 19],\n",
              "       [20, 21, 22, 23],\n",
              "       [24, 25, 26, 27],\n",
              "       [28, 29, 30, 31]])"
            ]
          },
          "metadata": {},
          "execution_count": 57
        }
      ]
    },
    {
      "cell_type": "code",
      "metadata": {
        "colab": {
          "base_uri": "https://localhost:8080/"
        },
        "id": "ghhE7MRVOrqX",
        "outputId": "625d5358-383d-4645-93a9-b049229d55b4"
      },
      "source": [
        "sample_output = np.array([[ 0,  2],\n",
        "       [ 4,  6],\n",
        "       [ 8, 10],\n",
        "       [12, 14],\n",
        "       [16, 18],\n",
        "       [20, 22],\n",
        "       [24, 26],\n",
        "       [28, 30]])\n",
        "sample_output"
      ],
      "execution_count": 58,
      "outputs": [
        {
          "output_type": "execute_result",
          "data": {
            "text/plain": [
              "array([[ 0,  2],\n",
              "       [ 4,  6],\n",
              "       [ 8, 10],\n",
              "       [12, 14],\n",
              "       [16, 18],\n",
              "       [20, 22],\n",
              "       [24, 26],\n",
              "       [28, 30]])"
            ]
          },
          "metadata": {},
          "execution_count": 58
        }
      ]
    },
    {
      "cell_type": "code",
      "metadata": {
        "id": "HOPNWQLRXhqI",
        "colab": {
          "base_uri": "https://localhost:8080/"
        },
        "outputId": "fd06a26b-e2e6-4c73-b834-d1c0ad2f4981"
      },
      "source": [
        "# Write your code here\n",
        "col=np.array([0,2])\n",
        "ans=arr[:,col]\n",
        "ans"
      ],
      "execution_count": 59,
      "outputs": [
        {
          "output_type": "execute_result",
          "data": {
            "text/plain": [
              "array([[ 0,  2],\n",
              "       [ 4,  6],\n",
              "       [ 8, 10],\n",
              "       [12, 14],\n",
              "       [16, 18],\n",
              "       [20, 22],\n",
              "       [24, 26],\n",
              "       [28, 30]])"
            ]
          },
          "metadata": {},
          "execution_count": 59
        }
      ]
    },
    {
      "cell_type": "markdown",
      "metadata": {
        "id": "xj5lX_02SOa5"
      },
      "source": [
        "# Part 6: Expressing Conditional Logic as Array Operations\n",
        "\n"
      ]
    },
    {
      "cell_type": "markdown",
      "metadata": {
        "id": "BeZCKBFmScZW"
      },
      "source": [
        "Given two following matrices, use conditional logic to replace all the odd elements of matrix A with even elements of matrix B"
      ]
    },
    {
      "cell_type": "code",
      "metadata": {
        "colab": {
          "base_uri": "https://localhost:8080/"
        },
        "id": "amG797QGShmQ",
        "outputId": "787d58e2-73b6-4ffb-b36d-17ba148a6480"
      },
      "source": [
        "A = np.arange(9).reshape((3,3))\n",
        "B = np.arange(1,10).reshape((3,3))\n",
        "print(A)\n",
        "print(B)"
      ],
      "execution_count": 60,
      "outputs": [
        {
          "output_type": "stream",
          "name": "stdout",
          "text": [
            "[[0 1 2]\n",
            " [3 4 5]\n",
            " [6 7 8]]\n",
            "[[1 2 3]\n",
            " [4 5 6]\n",
            " [7 8 9]]\n"
          ]
        }
      ]
    },
    {
      "cell_type": "code",
      "metadata": {
        "colab": {
          "base_uri": "https://localhost:8080/"
        },
        "id": "LvvT-mkFS9Fo",
        "outputId": "243df446-0bf4-4712-c8e9-a4e94a98232d"
      },
      "source": [
        "sample_output = np.array([[0, 2, 2],\n",
        "       [4, 4, 6],\n",
        "       [6, 8, 8]])\n",
        "sample_output"
      ],
      "execution_count": 61,
      "outputs": [
        {
          "output_type": "execute_result",
          "data": {
            "text/plain": [
              "array([[0, 2, 2],\n",
              "       [4, 4, 6],\n",
              "       [6, 8, 8]])"
            ]
          },
          "metadata": {},
          "execution_count": 61
        }
      ]
    },
    {
      "cell_type": "code",
      "metadata": {
        "id": "NFsduXBoXncx",
        "colab": {
          "base_uri": "https://localhost:8080/"
        },
        "outputId": "b16ed634-1a8d-4b6e-e243-18a26c686e78"
      },
      "source": [
        "A=np.where((A %2 ==1) & (B %2 ==0), B,A )\n",
        "A"
      ],
      "execution_count": 62,
      "outputs": [
        {
          "output_type": "execute_result",
          "data": {
            "text/plain": [
              "array([[0, 2, 2],\n",
              "       [4, 4, 6],\n",
              "       [6, 8, 8]])"
            ]
          },
          "metadata": {},
          "execution_count": 62
        }
      ]
    },
    {
      "cell_type": "markdown",
      "metadata": {
        "id": "11T_pvkoUrIb"
      },
      "source": [
        "# Part 7: Linear Algebra"
      ]
    },
    {
      "cell_type": "markdown",
      "metadata": {
        "id": "z44KXIq9Uu8E"
      },
      "source": [
        "Given the following system of equations, solve for x and y using either `numpy.linalg.solve(m1,m2)` or using `inv` and `dot`\n",
        "\n",
        "2x + 5y = 20\n",
        "\n",
        "3x + 6y = 12"
      ]
    },
    {
      "cell_type": "code",
      "metadata": {
        "id": "XVppUEYjp-7a",
        "colab": {
          "base_uri": "https://localhost:8080/"
        },
        "outputId": "5a0379a1-e40b-417f-8585-d0d89574bac7"
      },
      "source": [
        "#write your code here\n",
        "a=np.array([[2,5],[3,6]])\n",
        "b=np.array([20,12])\n",
        "np.linalg.solve(a,b)"
      ],
      "execution_count": 63,
      "outputs": [
        {
          "output_type": "execute_result",
          "data": {
            "text/plain": [
              "array([-20.,  12.])"
            ]
          },
          "metadata": {},
          "execution_count": 63
        }
      ]
    }
  ]
}